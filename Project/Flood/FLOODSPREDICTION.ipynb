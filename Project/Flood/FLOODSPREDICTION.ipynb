{
  "cells": [
    {
      "cell_type": "code",
      "execution_count": 4,
      "metadata": {
        "id": "NnjbPjkOmzVZ"
      },
      "outputs": [],
      "source": [
        "import pandas as pd\n",
        "import numpy as np\n",
        "import seaborn as sns\n",
        "import matplotlib.pyplot as plt"
      ]
    },
    {
      "cell_type": "code",
      "execution_count": 5,
      "metadata": {
        "id": "0Dml1dkcnTjk"
      },
      "outputs": [],
      "source": [
        "df=pd.read_excel('flood dataset.xlsx')"
      ]
    },
    {
      "cell_type": "code",
      "execution_count": 6,
      "metadata": {
        "colab": {
          "base_uri": "https://localhost:8080/",
          "height": 206
        },
        "id": "iXgRLozOrbI5",
        "outputId": "65163542-c03b-4285-9d64-63a1f9fe19b2"
      },
      "outputs": [
        {
          "data": {
            "text/html": [
              "<div>\n",
              "<style scoped>\n",
              "    .dataframe tbody tr th:only-of-type {\n",
              "        vertical-align: middle;\n",
              "    }\n",
              "\n",
              "    .dataframe tbody tr th {\n",
              "        vertical-align: top;\n",
              "    }\n",
              "\n",
              "    .dataframe thead th {\n",
              "        text-align: right;\n",
              "    }\n",
              "</style>\n",
              "<table border=\"1\" class=\"dataframe\">\n",
              "  <thead>\n",
              "    <tr style=\"text-align: right;\">\n",
              "      <th></th>\n",
              "      <th>Temp</th>\n",
              "      <th>Humidity</th>\n",
              "      <th>Cloud Cover</th>\n",
              "      <th>ANNUAL</th>\n",
              "      <th>Jan-Feb</th>\n",
              "      <th>Mar-May</th>\n",
              "      <th>Jun-Sep</th>\n",
              "      <th>Oct-Dec</th>\n",
              "      <th>avgjune</th>\n",
              "      <th>sub</th>\n",
              "      <th>flood</th>\n",
              "    </tr>\n",
              "  </thead>\n",
              "  <tbody>\n",
              "    <tr>\n",
              "      <th>0</th>\n",
              "      <td>29</td>\n",
              "      <td>70</td>\n",
              "      <td>30</td>\n",
              "      <td>3248.6</td>\n",
              "      <td>73.4</td>\n",
              "      <td>386.2</td>\n",
              "      <td>2122.8</td>\n",
              "      <td>666.1</td>\n",
              "      <td>274.866667</td>\n",
              "      <td>649.9</td>\n",
              "      <td>0</td>\n",
              "    </tr>\n",
              "    <tr>\n",
              "      <th>1</th>\n",
              "      <td>28</td>\n",
              "      <td>75</td>\n",
              "      <td>40</td>\n",
              "      <td>3326.6</td>\n",
              "      <td>9.3</td>\n",
              "      <td>275.7</td>\n",
              "      <td>2403.4</td>\n",
              "      <td>638.2</td>\n",
              "      <td>130.300000</td>\n",
              "      <td>256.4</td>\n",
              "      <td>1</td>\n",
              "    </tr>\n",
              "    <tr>\n",
              "      <th>2</th>\n",
              "      <td>28</td>\n",
              "      <td>75</td>\n",
              "      <td>42</td>\n",
              "      <td>3271.2</td>\n",
              "      <td>21.7</td>\n",
              "      <td>336.3</td>\n",
              "      <td>2343.0</td>\n",
              "      <td>570.1</td>\n",
              "      <td>186.200000</td>\n",
              "      <td>308.9</td>\n",
              "      <td>0</td>\n",
              "    </tr>\n",
              "    <tr>\n",
              "      <th>3</th>\n",
              "      <td>29</td>\n",
              "      <td>71</td>\n",
              "      <td>44</td>\n",
              "      <td>3129.7</td>\n",
              "      <td>26.7</td>\n",
              "      <td>339.4</td>\n",
              "      <td>2398.2</td>\n",
              "      <td>365.3</td>\n",
              "      <td>366.066667</td>\n",
              "      <td>862.5</td>\n",
              "      <td>0</td>\n",
              "    </tr>\n",
              "    <tr>\n",
              "      <th>4</th>\n",
              "      <td>31</td>\n",
              "      <td>74</td>\n",
              "      <td>40</td>\n",
              "      <td>2741.6</td>\n",
              "      <td>23.4</td>\n",
              "      <td>378.5</td>\n",
              "      <td>1881.5</td>\n",
              "      <td>458.1</td>\n",
              "      <td>283.400000</td>\n",
              "      <td>586.9</td>\n",
              "      <td>0</td>\n",
              "    </tr>\n",
              "  </tbody>\n",
              "</table>\n",
              "</div>"
            ],
            "text/plain": [
              "   Temp  Humidity  Cloud Cover  ANNUAL  Jan-Feb  Mar-May  Jun-Sep  Oct-Dec  \\\n",
              "0    29        70           30  3248.6     73.4    386.2   2122.8    666.1   \n",
              "1    28        75           40  3326.6      9.3    275.7   2403.4    638.2   \n",
              "2    28        75           42  3271.2     21.7    336.3   2343.0    570.1   \n",
              "3    29        71           44  3129.7     26.7    339.4   2398.2    365.3   \n",
              "4    31        74           40  2741.6     23.4    378.5   1881.5    458.1   \n",
              "\n",
              "      avgjune    sub  flood  \n",
              "0  274.866667  649.9      0  \n",
              "1  130.300000  256.4      1  \n",
              "2  186.200000  308.9      0  \n",
              "3  366.066667  862.5      0  \n",
              "4  283.400000  586.9      0  "
            ]
          },
          "execution_count": 6,
          "metadata": {},
          "output_type": "execute_result"
        }
      ],
      "source": [
        "df.head()"
      ]
    },
    {
      "cell_type": "code",
      "execution_count": 7,
      "metadata": {
        "colab": {
          "base_uri": "https://localhost:8080/",
          "height": 429
        },
        "id": "zVPZkMLCrhNN",
        "outputId": "ecd96628-f7b5-4f8e-f318-5394a556815b"
      },
      "outputs": [
        {
          "data": {
            "text/plain": [
              "Temp           0\n",
              "Humidity       0\n",
              "Cloud Cover    0\n",
              "ANNUAL         0\n",
              "Jan-Feb        0\n",
              "Mar-May        0\n",
              "Jun-Sep        0\n",
              "Oct-Dec        0\n",
              "avgjune        0\n",
              "sub            0\n",
              "flood          0\n",
              "dtype: int64"
            ]
          },
          "execution_count": 7,
          "metadata": {},
          "output_type": "execute_result"
        }
      ],
      "source": [
        "df.isnull().sum()"
      ]
    },
    {
      "cell_type": "code",
      "execution_count": 8,
      "metadata": {
        "colab": {
          "base_uri": "https://localhost:8080/",
          "height": 300
        },
        "id": "eW4PhM5isfA4",
        "outputId": "97a57a18-2126-4d6b-bcea-73a170597549"
      },
      "outputs": [
        {
          "data": {
            "text/html": [
              "<div>\n",
              "<style scoped>\n",
              "    .dataframe tbody tr th:only-of-type {\n",
              "        vertical-align: middle;\n",
              "    }\n",
              "\n",
              "    .dataframe tbody tr th {\n",
              "        vertical-align: top;\n",
              "    }\n",
              "\n",
              "    .dataframe thead th {\n",
              "        text-align: right;\n",
              "    }\n",
              "</style>\n",
              "<table border=\"1\" class=\"dataframe\">\n",
              "  <thead>\n",
              "    <tr style=\"text-align: right;\">\n",
              "      <th></th>\n",
              "      <th>Temp</th>\n",
              "      <th>Humidity</th>\n",
              "      <th>Cloud Cover</th>\n",
              "      <th>ANNUAL</th>\n",
              "      <th>Jan-Feb</th>\n",
              "      <th>Mar-May</th>\n",
              "      <th>Jun-Sep</th>\n",
              "      <th>Oct-Dec</th>\n",
              "      <th>avgjune</th>\n",
              "      <th>sub</th>\n",
              "      <th>flood</th>\n",
              "    </tr>\n",
              "  </thead>\n",
              "  <tbody>\n",
              "    <tr>\n",
              "      <th>count</th>\n",
              "      <td>115.000000</td>\n",
              "      <td>115.000000</td>\n",
              "      <td>115.000000</td>\n",
              "      <td>115.000000</td>\n",
              "      <td>115.000000</td>\n",
              "      <td>115.000000</td>\n",
              "      <td>115.000000</td>\n",
              "      <td>115.000000</td>\n",
              "      <td>115.000000</td>\n",
              "      <td>115.000000</td>\n",
              "      <td>115.000000</td>\n",
              "    </tr>\n",
              "    <tr>\n",
              "      <th>mean</th>\n",
              "      <td>29.600000</td>\n",
              "      <td>73.852174</td>\n",
              "      <td>36.286957</td>\n",
              "      <td>2925.487826</td>\n",
              "      <td>27.739130</td>\n",
              "      <td>377.253913</td>\n",
              "      <td>2022.840870</td>\n",
              "      <td>497.636522</td>\n",
              "      <td>218.100870</td>\n",
              "      <td>439.801739</td>\n",
              "      <td>0.139130</td>\n",
              "    </tr>\n",
              "    <tr>\n",
              "      <th>std</th>\n",
              "      <td>1.122341</td>\n",
              "      <td>2.947623</td>\n",
              "      <td>4.330158</td>\n",
              "      <td>422.112193</td>\n",
              "      <td>22.361032</td>\n",
              "      <td>151.091850</td>\n",
              "      <td>386.254397</td>\n",
              "      <td>129.860643</td>\n",
              "      <td>62.547597</td>\n",
              "      <td>210.438813</td>\n",
              "      <td>0.347597</td>\n",
              "    </tr>\n",
              "    <tr>\n",
              "      <th>min</th>\n",
              "      <td>28.000000</td>\n",
              "      <td>70.000000</td>\n",
              "      <td>30.000000</td>\n",
              "      <td>2068.800000</td>\n",
              "      <td>0.300000</td>\n",
              "      <td>89.900000</td>\n",
              "      <td>1104.300000</td>\n",
              "      <td>166.600000</td>\n",
              "      <td>65.600000</td>\n",
              "      <td>34.200000</td>\n",
              "      <td>0.000000</td>\n",
              "    </tr>\n",
              "    <tr>\n",
              "      <th>25%</th>\n",
              "      <td>29.000000</td>\n",
              "      <td>71.000000</td>\n",
              "      <td>32.500000</td>\n",
              "      <td>2627.900000</td>\n",
              "      <td>10.250000</td>\n",
              "      <td>276.750000</td>\n",
              "      <td>1768.850000</td>\n",
              "      <td>407.450000</td>\n",
              "      <td>179.666667</td>\n",
              "      <td>295.000000</td>\n",
              "      <td>0.000000</td>\n",
              "    </tr>\n",
              "    <tr>\n",
              "      <th>50%</th>\n",
              "      <td>30.000000</td>\n",
              "      <td>74.000000</td>\n",
              "      <td>36.000000</td>\n",
              "      <td>2937.500000</td>\n",
              "      <td>20.500000</td>\n",
              "      <td>342.000000</td>\n",
              "      <td>1948.700000</td>\n",
              "      <td>501.500000</td>\n",
              "      <td>211.033333</td>\n",
              "      <td>430.600000</td>\n",
              "      <td>0.000000</td>\n",
              "    </tr>\n",
              "    <tr>\n",
              "      <th>75%</th>\n",
              "      <td>31.000000</td>\n",
              "      <td>76.000000</td>\n",
              "      <td>40.000000</td>\n",
              "      <td>3164.100000</td>\n",
              "      <td>41.600000</td>\n",
              "      <td>442.300000</td>\n",
              "      <td>2242.900000</td>\n",
              "      <td>584.550000</td>\n",
              "      <td>263.833333</td>\n",
              "      <td>577.650000</td>\n",
              "      <td>0.000000</td>\n",
              "    </tr>\n",
              "    <tr>\n",
              "      <th>max</th>\n",
              "      <td>31.000000</td>\n",
              "      <td>79.000000</td>\n",
              "      <td>44.000000</td>\n",
              "      <td>4257.800000</td>\n",
              "      <td>98.100000</td>\n",
              "      <td>915.200000</td>\n",
              "      <td>3451.300000</td>\n",
              "      <td>823.300000</td>\n",
              "      <td>366.066667</td>\n",
              "      <td>982.700000</td>\n",
              "      <td>1.000000</td>\n",
              "    </tr>\n",
              "  </tbody>\n",
              "</table>\n",
              "</div>"
            ],
            "text/plain": [
              "             Temp    Humidity  Cloud Cover       ANNUAL     Jan-Feb  \\\n",
              "count  115.000000  115.000000   115.000000   115.000000  115.000000   \n",
              "mean    29.600000   73.852174    36.286957  2925.487826   27.739130   \n",
              "std      1.122341    2.947623     4.330158   422.112193   22.361032   \n",
              "min     28.000000   70.000000    30.000000  2068.800000    0.300000   \n",
              "25%     29.000000   71.000000    32.500000  2627.900000   10.250000   \n",
              "50%     30.000000   74.000000    36.000000  2937.500000   20.500000   \n",
              "75%     31.000000   76.000000    40.000000  3164.100000   41.600000   \n",
              "max     31.000000   79.000000    44.000000  4257.800000   98.100000   \n",
              "\n",
              "          Mar-May      Jun-Sep     Oct-Dec     avgjune         sub       flood  \n",
              "count  115.000000   115.000000  115.000000  115.000000  115.000000  115.000000  \n",
              "mean   377.253913  2022.840870  497.636522  218.100870  439.801739    0.139130  \n",
              "std    151.091850   386.254397  129.860643   62.547597  210.438813    0.347597  \n",
              "min     89.900000  1104.300000  166.600000   65.600000   34.200000    0.000000  \n",
              "25%    276.750000  1768.850000  407.450000  179.666667  295.000000    0.000000  \n",
              "50%    342.000000  1948.700000  501.500000  211.033333  430.600000    0.000000  \n",
              "75%    442.300000  2242.900000  584.550000  263.833333  577.650000    0.000000  \n",
              "max    915.200000  3451.300000  823.300000  366.066667  982.700000    1.000000  "
            ]
          },
          "execution_count": 8,
          "metadata": {},
          "output_type": "execute_result"
        }
      ],
      "source": [
        "df.describe()"
      ]
    },
    {
      "cell_type": "code",
      "execution_count": 9,
      "metadata": {
        "colab": {
          "base_uri": "https://localhost:8080/"
        },
        "id": "rn3VkGODskv8",
        "outputId": "1495e2c6-0925-475d-bf57-37214fc2b7dc"
      },
      "outputs": [
        {
          "name": "stdout",
          "output_type": "stream",
          "text": [
            "<class 'pandas.core.frame.DataFrame'>\n",
            "RangeIndex: 115 entries, 0 to 114\n",
            "Data columns (total 11 columns):\n",
            " #   Column       Non-Null Count  Dtype  \n",
            "---  ------       --------------  -----  \n",
            " 0   Temp         115 non-null    int64  \n",
            " 1   Humidity     115 non-null    int64  \n",
            " 2   Cloud Cover  115 non-null    int64  \n",
            " 3   ANNUAL       115 non-null    float64\n",
            " 4   Jan-Feb      115 non-null    float64\n",
            " 5   Mar-May      115 non-null    float64\n",
            " 6   Jun-Sep      115 non-null    float64\n",
            " 7   Oct-Dec      115 non-null    float64\n",
            " 8   avgjune      115 non-null    float64\n",
            " 9   sub          115 non-null    float64\n",
            " 10  flood        115 non-null    int64  \n",
            "dtypes: float64(7), int64(4)\n",
            "memory usage: 10.0 KB\n"
          ]
        }
      ],
      "source": [
        "df.info()"
      ]
    },
    {
      "cell_type": "code",
      "execution_count": 10,
      "metadata": {
        "colab": {
          "base_uri": "https://localhost:8080/"
        },
        "id": "yFEQwtYxs-61",
        "outputId": "d5f97b21-a6a4-4f62-ed9e-55baa64e8d7c"
      },
      "outputs": [
        {
          "name": "stdout",
          "output_type": "stream",
          "text": [
            "Index(['Temp', 'Humidity', 'Cloud Cover', 'ANNUAL', 'Jan-Feb', 'Mar-May',\n",
            "       'Jun-Sep', 'Oct-Dec', 'avgjune', 'sub', 'flood'],\n",
            "      dtype='object')\n"
          ]
        }
      ],
      "source": [
        "print(df.columns)"
      ]
    },
    {
      "cell_type": "code",
      "execution_count": 11,
      "metadata": {
        "colab": {
          "base_uri": "https://localhost:8080/",
          "height": 428
        },
        "id": "WKN5vNqztE-Q",
        "outputId": "9d363a67-457c-4ae5-bdcb-a5eacf79091e"
      },
      "outputs": [
        {
          "data": {
            "text/plain": [
              "<Axes: >"
            ]
          },
          "execution_count": 11,
          "metadata": {},
          "output_type": "execute_result"
        },
        {
          "data": {
            "image/png": "[encoded data removed]",
            "text/plain": [
              "<Figure size 640x480 with 1 Axes>"
            ]
          },
          "metadata": {},
          "output_type": "display_data"
        }
      ],
      "source": [
        "sns.boxplot(df['ANNUAL'])"
      ]
    },
    {
      "cell_type": "code",
      "execution_count": 12,
      "metadata": {
        "id": "JW7s-LWbu01P"
      },
      "outputs": [],
      "source": [
        "Q3 = df.ANNUAL.quantile(0.75)\n",
        "Q1 = df.ANNUAL.quantile(0.25)\n",
        "IQR = Q3-Q1\n",
        "Upper_limit = Q3+1.5*IQR\n",
        "Upper_limit\n",
        "df['ANNUAL']=np.where(df['ANNUAL']>Upper_limit,3968.4000000000005,df['ANNUAL'])"
      ]
    },
    {
      "cell_type": "code",
      "execution_count": 13,
      "metadata": {
        "colab": {
          "base_uri": "https://localhost:8080/",
          "height": 428
        },
        "id": "vlRzYUS3tWpN",
        "outputId": "c8138a63-0bb1-4a56-8a32-9d4a94453581"
      },
      "outputs": [
        {
          "data": {
            "text/plain": [
              "<Axes: >"
            ]
          },
          "execution_count": 13,
          "metadata": {},
          "output_type": "execute_result"
        },
        {
          "data": {
            "image/png": "[encoded data removed]",
            "text/plain": [
              "<Figure size 640x480 with 1 Axes>"
            ]
          },
          "metadata": {},
          "output_type": "display_data"
        }
      ],
      "source": [
        "sns.boxplot(df['Jan-Feb'])"
      ]
    },
    {
      "cell_type": "code",
      "execution_count": 14,
      "metadata": {
        "id": "MmyKfCGqvScP"
      },
      "outputs": [],
      "source": [
        "Q3 = df['Jan-Feb'].quantile(0.75)\n",
        "Q1 = df['Jan-Feb'].quantile(0.25)\n",
        "IQR = Q3-Q1\n",
        "Upper_limit = Q3+1.5*IQR\n",
        "Upper_limit\n",
        "df['Jan-Feb']=np.where(df['Jan-Feb']>Upper_limit,88.625,df['Jan-Feb'])"
      ]
    },
    {
      "cell_type": "code",
      "execution_count": 15,
      "metadata": {
        "colab": {
          "base_uri": "https://localhost:8080/",
          "height": 428
        },
        "id": "267vJ_OruSK1",
        "outputId": "17d239d3-ead8-4b9c-cf5d-72869428a4bf"
      },
      "outputs": [
        {
          "data": {
            "text/plain": [
              "<Axes: >"
            ]
          },
          "execution_count": 15,
          "metadata": {},
          "output_type": "execute_result"
        },
        {
          "data": {
            "image/png": "[encoded data removed]",
            "text/plain": [
              "<Figure size 640x480 with 1 Axes>"
            ]
          },
          "metadata": {},
          "output_type": "display_data"
        }
      ],
      "source": [
        "sns.boxplot(df['Mar-May'])"
      ]
    },
    {
      "cell_type": "code",
      "execution_count": 16,
      "metadata": {
        "id": "NE2WTqNwvylR"
      },
      "outputs": [],
      "source": [
        "Q3 = df['Mar-May'].quantile(0.75)\n",
        "Q1 = df['Mar-May'].quantile(0.25)\n",
        "IQR = Q3-Q1\n",
        "Upper_limit = Q3+1.5*IQR\n",
        "Upper_limit\n",
        "df['Mar-May']=np.where(df['Mar-May']>Upper_limit,690.6249999999999,df['Mar-May'])"
      ]
    },
    {
      "cell_type": "code",
      "execution_count": 17,
      "metadata": {
        "colab": {
          "base_uri": "https://localhost:8080/",
          "height": 428
        },
        "id": "APHCNoyKuXUY",
        "outputId": "1d4327f6-167c-4f9f-ba04-c9b9f26eac98"
      },
      "outputs": [
        {
          "data": {
            "text/plain": [
              "<Axes: >"
            ]
          },
          "execution_count": 17,
          "metadata": {},
          "output_type": "execute_result"
        },
        {
          "data": {
            "image/png": "[encoded data removed]",
            "text/plain": [
              "<Figure size 640x480 with 1 Axes>"
            ]
          },
          "metadata": {},
          "output_type": "display_data"
        }
      ],
      "source": [
        "sns.boxplot(df['Jun-Sep'])"
      ]
    },
    {
      "cell_type": "code",
      "execution_count": 18,
      "metadata": {
        "colab": {
          "base_uri": "https://localhost:8080/"
        },
        "id": "fZY_NFRoulxN",
        "outputId": "497ec1ed-775a-475b-a8e5-063519b9ecdb"
      },
      "outputs": [
        {
          "name": "stdout",
          "output_type": "stream",
          "text": [
            "1057.7750000000003\n"
          ]
        }
      ],
      "source": [
        "Q3 = df['Jun-Sep'].quantile(0.75)\n",
        "Q1 = df['Jun-Sep'].quantile(0.25)\n",
        "IQR = Q3-Q1\n",
        "Upper_limit = Q3+1.5*IQR\n",
        "Upper_limit\n",
        "Lower_limit = Q1 - 1.5 * IQR\n",
        "print(Lower_limit)\n",
        "df['Jun-Sep']=np.where(df['Jun-Sep']>Upper_limit,2902.3249999999994,df['Jun-Sep'])"
      ]
    },
    {
      "cell_type": "code",
      "execution_count": 19,
      "metadata": {
        "id": "G8YFJksHwN_9"
      },
      "outputs": [],
      "source": [
        "df['Jun-Sep'] = np.where(df['Jun-Sep'] < Lower_limit, 1033.3250000000003, df['Jun-Sep'])"
      ]
    },
    {
      "cell_type": "code",
      "execution_count": 20,
      "metadata": {
        "colab": {
          "base_uri": "https://localhost:8080/",
          "height": 1000
        },
        "id": "gUpU4A-KxUZO",
        "outputId": "a724bbde-4bdc-4a2c-ac6e-66adda6fedf1"
      },
      "outputs": [
        {
          "data": {
            "text/plain": [
              "<Axes: >"
            ]
          },
          "execution_count": 20,
          "metadata": {},
          "output_type": "execute_result"
        },
        {
          "data": {
            "image/png": "[encoded data removed]",
            "text/plain": [
              "<Figure size 1800x1300 with 2 Axes>"
            ]
          },
          "metadata": {},
          "output_type": "display_data"
        }
      ],
      "source": [
        "plt.figure(figsize =(18,13))\n",
        "sns.heatmap(df.corr(),annot=True)"
      ]
    },
    {
      "cell_type": "code",
      "execution_count": 21,
      "metadata": {
        "colab": {
          "base_uri": "https://localhost:8080/",
          "height": 429
        },
        "id": "RWzSSV5fxm-s",
        "outputId": "59719658-dc1d-491b-a8fb-e95f55e981ad"
      },
      "outputs": [
        {
          "data": {
            "text/plain": [
              "flood          1.000000\n",
              "Jun-Sep        0.697246\n",
              "ANNUAL         0.616928\n",
              "avgjune        0.379778\n",
              "sub            0.349828\n",
              "Cloud Cover    0.089801\n",
              "Humidity       0.020250\n",
              "Oct-Dec       -0.024852\n",
              "Mar-May       -0.045788\n",
              "Temp          -0.080946\n",
              "Jan-Feb       -0.083381\n",
              "Name: flood, dtype: float64"
            ]
          },
          "execution_count": 21,
          "metadata": {},
          "output_type": "execute_result"
        }
      ],
      "source": [
        "df.corr()['flood'].sort_values(ascending= False)"
      ]
    },
    {
      "cell_type": "code",
      "execution_count": 22,
      "metadata": {
        "id": "eKK85Zdh16GV"
      },
      "outputs": [],
      "source": [
        "#x and y split\n",
        "x=df.iloc[:,:-1]\n",
        "x.head()\n",
        "y=df['flood']"
      ]
    },
    {
      "cell_type": "code",
      "execution_count": 23,
      "metadata": {
        "id": "57SYueD_2Tb4"
      },
      "outputs": [],
      "source": [
        "from sklearn.model_selection import train_test_split,GridSearchCV\n",
        "x_tr,x_t,y_tr,y_t=train_test_split(x,y,test_size=0.3,random_state=0)"
      ]
    },
    {
      "cell_type": "code",
      "execution_count": 24,
      "metadata": {
        "id": "d4PQjT7G2b_v"
      },
      "outputs": [],
      "source": [
        "from sklearn.ensemble import RandomForestClassifier\n",
        "rf=RandomForestClassifier()"
      ]
    },
    {
      "cell_type": "code",
      "execution_count": 25,
      "metadata": {
        "colab": {
          "base_uri": "https://localhost:8080/",
          "height": 80
        },
        "id": "PCksHg5-2d7u",
        "outputId": "b7b64273-42d7-45e6-d10c-147a2aea5fdf"
      },
      "outputs": [
        {
          "data": {
            "text/html": [
              "<style>#sk-container-id-1 {color: black;background-color: white;}#sk-container-id-1 pre{padding: 0;}#sk-container-id-1 div.sk-toggleable {background-color: white;}#sk-container-id-1 label.sk-toggleable__label {cursor: pointer;display: block;width: 100%;margin-bottom: 0;padding: 0.3em;box-sizing: border-box;text-align: center;}#sk-container-id-1 label.sk-toggleable__label-arrow:before {content: \"▸\";float: left;margin-right: 0.25em;color: #696969;}#sk-container-id-1 label.sk-toggleable__label-arrow:hover:before {color: black;}#sk-container-id-1 div.sk-estimator:hover label.sk-toggleable__label-arrow:before {color: black;}#sk-container-id-1 div.sk-toggleable__content {max-height: 0;max-width: 0;overflow: hidden;text-align: left;background-color: #f0f8ff;}#sk-container-id-1 div.sk-toggleable__content pre {margin: 0.2em;color: black;border-radius: 0.25em;background-color: #f0f8ff;}#sk-container-id-1 input.sk-toggleable__control:checked~div.sk-toggleable__content {max-height: 200px;max-width: 100%;overflow: auto;}#sk-container-id-1 input.sk-toggleable__control:checked~label.sk-toggleable__label-arrow:before {content: \"▾\";}#sk-container-id-1 div.sk-estimator input.sk-toggleable__control:checked~label.sk-toggleable__label {background-color: #d4ebff;}#sk-container-id-1 div.sk-label input.sk-toggleable__control:checked~label.sk-toggleable__label {background-color: #d4ebff;}#sk-container-id-1 input.sk-hidden--visually {border: 0;clip: rect(1px 1px 1px 1px);clip: rect(1px, 1px, 1px, 1px);height: 1px;margin: -1px;overflow: hidden;padding: 0;position: absolute;width: 1px;}#sk-container-id-1 div.sk-estimator {font-family: monospace;background-color: #f0f8ff;border: 1px dotted black;border-radius: 0.25em;box-sizing: border-box;margin-bottom: 0.5em;}#sk-container-id-1 div.sk-estimator:hover {background-color: #d4ebff;}#sk-container-id-1 div.sk-parallel-item::after {content: \"\";width: 100%;border-bottom: 1px solid gray;flex-grow: 1;}#sk-container-id-1 div.sk-label:hover label.sk-toggleable__label {background-color: #d4ebff;}#sk-container-id-1 div.sk-serial::before {content: \"\";position: absolute;border-left: 1px solid gray;box-sizing: border-box;top: 0;bottom: 0;left: 50%;z-index: 0;}#sk-container-id-1 div.sk-serial {display: flex;flex-direction: column;align-items: center;background-color: white;padding-right: 0.2em;padding-left: 0.2em;position: relative;}#sk-container-id-1 div.sk-item {position: relative;z-index: 1;}#sk-container-id-1 div.sk-parallel {display: flex;align-items: stretch;justify-content: center;background-color: white;position: relative;}#sk-container-id-1 div.sk-item::before, #sk-container-id-1 div.sk-parallel-item::before {content: \"\";position: absolute;border-left: 1px solid gray;box-sizing: border-box;top: 0;bottom: 0;left: 50%;z-index: -1;}#sk-container-id-1 div.sk-parallel-item {display: flex;flex-direction: column;z-index: 1;position: relative;background-color: white;}#sk-container-id-1 div.sk-parallel-item:first-child::after {align-self: flex-end;width: 50%;}#sk-container-id-1 div.sk-parallel-item:last-child::after {align-self: flex-start;width: 50%;}#sk-container-id-1 div.sk-parallel-item:only-child::after {width: 0;}#sk-container-id-1 div.sk-dashed-wrapped {border: 1px dashed gray;margin: 0 0.4em 0.5em 0.4em;box-sizing: border-box;padding-bottom: 0.4em;background-color: white;}#sk-container-id-1 div.sk-label label {font-family: monospace;font-weight: bold;display: inline-block;line-height: 1.2em;}#sk-container-id-1 div.sk-label-container {text-align: center;}#sk-container-id-1 div.sk-container {/* jupyter's `normalize.less` sets `[hidden] { display: none; }` but bootstrap.min.css set `[hidden] { display: none !important; }` so we also need the `!important` here to be able to override the default hidden behavior on the sphinx rendered scikit-learn.org. See: https://github.com/scikit-learn/scikit-learn/issues/21755 */display: inline-block !important;position: relative;}#sk-container-id-1 div.sk-text-repr-fallback {display: none;}</style><div id=\"sk-container-id-1\" class=\"sk-top-container\"><div class=\"sk-text-repr-fallback\"><pre>RandomForestClassifier()</pre><b>In a Jupyter environment, please rerun this cell to show the HTML representation or trust the notebook. <br />On GitHub, the HTML representation is unable to render, please try loading this page with nbviewer.org.</b></div><div class=\"sk-container\" hidden><div class=\"sk-item\"><div class=\"sk-estimator sk-toggleable\"><input class=\"sk-toggleable__control sk-hidden--visually\" id=\"sk-estimator-id-1\" type=\"checkbox\" checked><label for=\"sk-estimator-id-1\" class=\"sk-toggleable__label sk-toggleable__label-arrow\">RandomForestClassifier</label><div class=\"sk-toggleable__content\"><pre>RandomForestClassifier()</pre></div></div></div></div></div>"
            ],
            "text/plain": [
              "RandomForestClassifier()"
            ]
          },
          "execution_count": 25,
          "metadata": {},
          "output_type": "execute_result"
        }
      ],
      "source": [
        "rf.fit(x_tr,y_tr)"
      ]
    },
    {
      "cell_type": "code",
      "execution_count": 26,
      "metadata": {
        "id": "lXjY---_2fwg"
      },
      "outputs": [],
      "source": [
        "y_p=rf.predict(x_t)\n",
        "y_p1=rf.predict(x_tr)"
      ]
    },
    {
      "cell_type": "code",
      "execution_count": 27,
      "metadata": {
        "colab": {
          "base_uri": "https://localhost:8080/"
        },
        "id": "yNg79wDP2kTp",
        "outputId": "9c80bf49-3e1b-44ad-da90-31de63dea1a8"
      },
      "outputs": [
        {
          "name": "stdout",
          "output_type": "stream",
          "text": [
            "Accuracy score for testing data:  0.9714285714285714\n",
            "Accuracy score for training data:  1.0\n"
          ]
        }
      ],
      "source": [
        "from sklearn.metrics import accuracy_score,classification_report\n",
        "print(\"Accuracy score for testing data: \",accuracy_score(y_t,y_p))\n",
        "print(\"Accuracy score for training data: \",accuracy_score(y_tr,y_p1))"
      ]
    },
    {
      "cell_type": "code",
      "execution_count": 28,
      "metadata": {
        "colab": {
          "base_uri": "https://localhost:8080/",
          "height": 143
        },
        "id": "twArV8fL2n5x",
        "outputId": "de5bdce2-a4f8-446b-b12e-33b300d3d219"
      },
      "outputs": [
        {
          "data": {
            "text/html": [
              "<div>\n",
              "<style scoped>\n",
              "    .dataframe tbody tr th:only-of-type {\n",
              "        vertical-align: middle;\n",
              "    }\n",
              "\n",
              "    .dataframe tbody tr th {\n",
              "        vertical-align: top;\n",
              "    }\n",
              "\n",
              "    .dataframe thead th {\n",
              "        text-align: right;\n",
              "    }\n",
              "</style>\n",
              "<table border=\"1\" class=\"dataframe\">\n",
              "  <thead>\n",
              "    <tr style=\"text-align: right;\">\n",
              "      <th>col_0</th>\n",
              "      <th>0</th>\n",
              "      <th>1</th>\n",
              "    </tr>\n",
              "    <tr>\n",
              "      <th>flood</th>\n",
              "      <th></th>\n",
              "      <th></th>\n",
              "    </tr>\n",
              "  </thead>\n",
              "  <tbody>\n",
              "    <tr>\n",
              "      <th>0</th>\n",
              "      <td>26</td>\n",
              "      <td>1</td>\n",
              "    </tr>\n",
              "    <tr>\n",
              "      <th>1</th>\n",
              "      <td>0</td>\n",
              "      <td>8</td>\n",
              "    </tr>\n",
              "  </tbody>\n",
              "</table>\n",
              "</div>"
            ],
            "text/plain": [
              "col_0   0  1\n",
              "flood       \n",
              "0      26  1\n",
              "1       0  8"
            ]
          },
          "execution_count": 28,
          "metadata": {},
          "output_type": "execute_result"
        }
      ],
      "source": [
        "pd.crosstab(y_t,y_p)"
      ]
    },
    {
      "cell_type": "code",
      "execution_count": 29,
      "metadata": {
        "colab": {
          "base_uri": "https://localhost:8080/"
        },
        "id": "lDzoV0Sd2q9-",
        "outputId": "963e7d3e-d671-49ab-c7d8-0a5cb1643f1d"
      },
      "outputs": [
        {
          "name": "stdout",
          "output_type": "stream",
          "text": [
            "              precision    recall  f1-score   support\n",
            "\n",
            "           0       1.00      0.96      0.98        27\n",
            "           1       0.89      1.00      0.94         8\n",
            "\n",
            "    accuracy                           0.97        35\n",
            "   macro avg       0.94      0.98      0.96        35\n",
            "weighted avg       0.97      0.97      0.97        35\n",
            "\n"
          ]
        }
      ],
      "source": [
        "print(classification_report(y_t,y_p))"
      ]
    },
    {
      "cell_type": "code",
      "execution_count": 30,
      "metadata": {},
      "outputs": [
        {
          "name": "stdout",
          "output_type": "stream",
          "text": [
            "0.9714285714285714\n",
            "1.0\n"
          ]
        }
      ],
      "source": [
        "param_grid = {\n",
        "    'n_estimators': [100, 200],\n",
        "    'max_depth': [None, 10, 20, 30],\n",
        "    'min_samples_split': [2, 5, 10]\n",
        "}\n",
        "grid_search = GridSearchCV(rf, param_grid, cv=5)\n",
        "grid_search.fit(x_tr, y_tr)\n",
        "# Use the best estimator\n",
        "best_model = grid_search.best_estimator_\n",
        "y_pred = best_model.predict(x_t)\n",
        "y_pred1 = best_model.predict(x_tr)\n",
        "y_rf=accuracy_score(y_t,y_pred)\n",
        "y_rf1=accuracy_score(y_tr,y_pred1)\n",
        "print(y_rf)\n",
        "print(y_rf1)"
      ]
    },
    {
      "cell_type": "code",
      "execution_count": 31,
      "metadata": {},
      "outputs": [
        {
          "name": "stdout",
          "output_type": "stream",
          "text": [
            "Accuracy score for testing data:  0.9428571428571428\n",
            "Accuracy score for training data:  0.95\n"
          ]
        }
      ],
      "source": [
        "from sklearn.neighbors import KNeighborsClassifier\n",
        "kmodel=KNeighborsClassifier()\n",
        "kmodel.fit(x_tr,y_tr)\n",
        "y_predk = kmodel.predict(x_t)\n",
        "y_pred_train = kmodel.predict(x_tr)\n",
        "knn=accuracy_score(y_t,y_predk)\n",
        "knn1=accuracy_score(y_tr,y_pred_train)\n",
        "print(\"Accuracy score for testing data: \",knn)\n",
        "print(\"Accuracy score for training data: \",knn1)"
      ]
    },
    {
      "cell_type": "code",
      "execution_count": 32,
      "metadata": {
        "colab": {
          "base_uri": "https://localhost:8080/",
          "height": 520
        },
        "id": "sMrvSY-I2viQ",
        "outputId": "16dbeb1c-b715-4548-cd82-d049b3205cf4"
      },
      "outputs": [
        {
          "data": {
            "text/html": [
              "<div>\n",
              "<style scoped>\n",
              "    .dataframe tbody tr th:only-of-type {\n",
              "        vertical-align: middle;\n",
              "    }\n",
              "\n",
              "    .dataframe tbody tr th {\n",
              "        vertical-align: top;\n",
              "    }\n",
              "\n",
              "    .dataframe thead th {\n",
              "        text-align: right;\n",
              "    }\n",
              "</style>\n",
              "<table border=\"1\" class=\"dataframe\">\n",
              "  <thead>\n",
              "    <tr style=\"text-align: right;\">\n",
              "      <th></th>\n",
              "      <th>Temp</th>\n",
              "      <th>Humidity</th>\n",
              "      <th>Cloud Cover</th>\n",
              "      <th>ANNUAL</th>\n",
              "      <th>Jan-Feb</th>\n",
              "      <th>Mar-May</th>\n",
              "      <th>Jun-Sep</th>\n",
              "      <th>Oct-Dec</th>\n",
              "      <th>avgjune</th>\n",
              "      <th>sub</th>\n",
              "      <th>flood</th>\n",
              "    </tr>\n",
              "  </thead>\n",
              "  <tbody>\n",
              "    <tr>\n",
              "      <th>0</th>\n",
              "      <td>29</td>\n",
              "      <td>70</td>\n",
              "      <td>30</td>\n",
              "      <td>3248.6</td>\n",
              "      <td>73.4</td>\n",
              "      <td>386.2</td>\n",
              "      <td>2122.8</td>\n",
              "      <td>666.1</td>\n",
              "      <td>274.866667</td>\n",
              "      <td>649.9</td>\n",
              "      <td>0</td>\n",
              "    </tr>\n",
              "    <tr>\n",
              "      <th>1</th>\n",
              "      <td>28</td>\n",
              "      <td>75</td>\n",
              "      <td>40</td>\n",
              "      <td>3326.6</td>\n",
              "      <td>9.3</td>\n",
              "      <td>275.7</td>\n",
              "      <td>2403.4</td>\n",
              "      <td>638.2</td>\n",
              "      <td>130.300000</td>\n",
              "      <td>256.4</td>\n",
              "      <td>1</td>\n",
              "    </tr>\n",
              "    <tr>\n",
              "      <th>2</th>\n",
              "      <td>28</td>\n",
              "      <td>75</td>\n",
              "      <td>42</td>\n",
              "      <td>3271.2</td>\n",
              "      <td>21.7</td>\n",
              "      <td>336.3</td>\n",
              "      <td>2343.0</td>\n",
              "      <td>570.1</td>\n",
              "      <td>186.200000</td>\n",
              "      <td>308.9</td>\n",
              "      <td>0</td>\n",
              "    </tr>\n",
              "    <tr>\n",
              "      <th>3</th>\n",
              "      <td>29</td>\n",
              "      <td>71</td>\n",
              "      <td>44</td>\n",
              "      <td>3129.7</td>\n",
              "      <td>26.7</td>\n",
              "      <td>339.4</td>\n",
              "      <td>2398.2</td>\n",
              "      <td>365.3</td>\n",
              "      <td>366.066667</td>\n",
              "      <td>862.5</td>\n",
              "      <td>0</td>\n",
              "    </tr>\n",
              "    <tr>\n",
              "      <th>4</th>\n",
              "      <td>31</td>\n",
              "      <td>74</td>\n",
              "      <td>40</td>\n",
              "      <td>2741.6</td>\n",
              "      <td>23.4</td>\n",
              "      <td>378.5</td>\n",
              "      <td>1881.5</td>\n",
              "      <td>458.1</td>\n",
              "      <td>283.400000</td>\n",
              "      <td>586.9</td>\n",
              "      <td>0</td>\n",
              "    </tr>\n",
              "    <tr>\n",
              "      <th>5</th>\n",
              "      <td>30</td>\n",
              "      <td>70</td>\n",
              "      <td>38</td>\n",
              "      <td>2708.0</td>\n",
              "      <td>34.1</td>\n",
              "      <td>230.0</td>\n",
              "      <td>1943.1</td>\n",
              "      <td>500.8</td>\n",
              "      <td>138.300000</td>\n",
              "      <td>254.1</td>\n",
              "      <td>0</td>\n",
              "    </tr>\n",
              "    <tr>\n",
              "      <th>6</th>\n",
              "      <td>29</td>\n",
              "      <td>74</td>\n",
              "      <td>40</td>\n",
              "      <td>3671.1</td>\n",
              "      <td>23.7</td>\n",
              "      <td>328.0</td>\n",
              "      <td>2737.8</td>\n",
              "      <td>581.7</td>\n",
              "      <td>256.966667</td>\n",
              "      <td>669.5</td>\n",
              "      <td>1</td>\n",
              "    </tr>\n",
              "    <tr>\n",
              "      <th>7</th>\n",
              "      <td>30</td>\n",
              "      <td>78</td>\n",
              "      <td>36</td>\n",
              "      <td>2648.3</td>\n",
              "      <td>28.8</td>\n",
              "      <td>283.7</td>\n",
              "      <td>2023.6</td>\n",
              "      <td>312.2</td>\n",
              "      <td>197.533333</td>\n",
              "      <td>450.0</td>\n",
              "      <td>0</td>\n",
              "    </tr>\n",
              "    <tr>\n",
              "      <th>8</th>\n",
              "      <td>30</td>\n",
              "      <td>71</td>\n",
              "      <td>40</td>\n",
              "      <td>3050.2</td>\n",
              "      <td>65.9</td>\n",
              "      <td>628.3</td>\n",
              "      <td>1940.4</td>\n",
              "      <td>415.5</td>\n",
              "      <td>234.900000</td>\n",
              "      <td>231.5</td>\n",
              "      <td>0</td>\n",
              "    </tr>\n",
              "    <tr>\n",
              "      <th>9</th>\n",
              "      <td>30</td>\n",
              "      <td>70</td>\n",
              "      <td>34</td>\n",
              "      <td>2848.6</td>\n",
              "      <td>28.4</td>\n",
              "      <td>296.7</td>\n",
              "      <td>1886.5</td>\n",
              "      <td>637.0</td>\n",
              "      <td>226.666667</td>\n",
              "      <td>531.2</td>\n",
              "      <td>0</td>\n",
              "    </tr>\n",
              "    <tr>\n",
              "      <th>10</th>\n",
              "      <td>28</td>\n",
              "      <td>73</td>\n",
              "      <td>30</td>\n",
              "      <td>2726.7</td>\n",
              "      <td>7.3</td>\n",
              "      <td>249.7</td>\n",
              "      <td>1934.0</td>\n",
              "      <td>535.7</td>\n",
              "      <td>330.000000</td>\n",
              "      <td>809.4</td>\n",
              "      <td>0</td>\n",
              "    </tr>\n",
              "    <tr>\n",
              "      <th>11</th>\n",
              "      <td>28</td>\n",
              "      <td>77</td>\n",
              "      <td>40</td>\n",
              "      <td>3451.3</td>\n",
              "      <td>16.9</td>\n",
              "      <td>351.1</td>\n",
              "      <td>2453.1</td>\n",
              "      <td>630.2</td>\n",
              "      <td>316.066667</td>\n",
              "      <td>730.9</td>\n",
              "      <td>1</td>\n",
              "    </tr>\n",
              "    <tr>\n",
              "      <th>12</th>\n",
              "      <td>28</td>\n",
              "      <td>79</td>\n",
              "      <td>32</td>\n",
              "      <td>2610.8</td>\n",
              "      <td>8.3</td>\n",
              "      <td>295.2</td>\n",
              "      <td>1729.0</td>\n",
              "      <td>578.3</td>\n",
              "      <td>180.566667</td>\n",
              "      <td>342.9</td>\n",
              "      <td>0</td>\n",
              "    </tr>\n",
              "    <tr>\n",
              "      <th>13</th>\n",
              "      <td>31</td>\n",
              "      <td>72</td>\n",
              "      <td>35</td>\n",
              "      <td>2899.1</td>\n",
              "      <td>7.6</td>\n",
              "      <td>215.0</td>\n",
              "      <td>2066.1</td>\n",
              "      <td>610.5</td>\n",
              "      <td>188.433333</td>\n",
              "      <td>401.1</td>\n",
              "      <td>0</td>\n",
              "    </tr>\n",
              "    <tr>\n",
              "      <th>14</th>\n",
              "      <td>30</td>\n",
              "      <td>73</td>\n",
              "      <td>33</td>\n",
              "      <td>3024.5</td>\n",
              "      <td>40.4</td>\n",
              "      <td>303.1</td>\n",
              "      <td>2167.0</td>\n",
              "      <td>514.0</td>\n",
              "      <td>232.033333</td>\n",
              "      <td>541.6</td>\n",
              "      <td>0</td>\n",
              "    </tr>\n",
              "  </tbody>\n",
              "</table>\n",
              "</div>"
            ],
            "text/plain": [
              "    Temp  Humidity  Cloud Cover  ANNUAL  Jan-Feb  Mar-May  Jun-Sep  Oct-Dec  \\\n",
              "0     29        70           30  3248.6     73.4    386.2   2122.8    666.1   \n",
              "1     28        75           40  3326.6      9.3    275.7   2403.4    638.2   \n",
              "2     28        75           42  3271.2     21.7    336.3   2343.0    570.1   \n",
              "3     29        71           44  3129.7     26.7    339.4   2398.2    365.3   \n",
              "4     31        74           40  2741.6     23.4    378.5   1881.5    458.1   \n",
              "5     30        70           38  2708.0     34.1    230.0   1943.1    500.8   \n",
              "6     29        74           40  3671.1     23.7    328.0   2737.8    581.7   \n",
              "7     30        78           36  2648.3     28.8    283.7   2023.6    312.2   \n",
              "8     30        71           40  3050.2     65.9    628.3   1940.4    415.5   \n",
              "9     30        70           34  2848.6     28.4    296.7   1886.5    637.0   \n",
              "10    28        73           30  2726.7      7.3    249.7   1934.0    535.7   \n",
              "11    28        77           40  3451.3     16.9    351.1   2453.1    630.2   \n",
              "12    28        79           32  2610.8      8.3    295.2   1729.0    578.3   \n",
              "13    31        72           35  2899.1      7.6    215.0   2066.1    610.5   \n",
              "14    30        73           33  3024.5     40.4    303.1   2167.0    514.0   \n",
              "\n",
              "       avgjune    sub  flood  \n",
              "0   274.866667  649.9      0  \n",
              "1   130.300000  256.4      1  \n",
              "2   186.200000  308.9      0  \n",
              "3   366.066667  862.5      0  \n",
              "4   283.400000  586.9      0  \n",
              "5   138.300000  254.1      0  \n",
              "6   256.966667  669.5      1  \n",
              "7   197.533333  450.0      0  \n",
              "8   234.900000  231.5      0  \n",
              "9   226.666667  531.2      0  \n",
              "10  330.000000  809.4      0  \n",
              "11  316.066667  730.9      1  \n",
              "12  180.566667  342.9      0  \n",
              "13  188.433333  401.1      0  \n",
              "14  232.033333  541.6      0  "
            ]
          },
          "execution_count": 32,
          "metadata": {},
          "output_type": "execute_result"
        }
      ],
      "source": [
        "df.head(15)"
      ]
    },
    {
      "cell_type": "code",
      "execution_count": 33,
      "metadata": {},
      "outputs": [
        {
          "data": {
            "text/plain": [
              "flood\n",
              "0    99\n",
              "1    16\n",
              "Name: count, dtype: int64"
            ]
          },
          "execution_count": 33,
          "metadata": {},
          "output_type": "execute_result"
        }
      ],
      "source": [
        "df.flood.value_counts()"
      ]
    },
    {
      "cell_type": "code",
      "execution_count": 34,
      "metadata": {},
      "outputs": [],
      "source": [
        "#smote analysis\n",
        "from imblearn.over_sampling import SMOTE\n"
      ]
    },
    {
      "cell_type": "code",
      "execution_count": 35,
      "metadata": {},
      "outputs": [],
      "source": [
        "smote = SMOTE()"
      ]
    },
    {
      "cell_type": "code",
      "execution_count": 36,
      "metadata": {},
      "outputs": [],
      "source": [
        "x_train_smote, y_train_smote = smote.fit_resample(x_tr,y_tr)\n"
      ]
    },
    {
      "cell_type": "code",
      "execution_count": 37,
      "metadata": {},
      "outputs": [
        {
          "data": {
            "text/plain": [
              "flood\n",
              "0    72\n",
              "1    72\n",
              "Name: count, dtype: int64"
            ]
          },
          "execution_count": 37,
          "metadata": {},
          "output_type": "execute_result"
        }
      ],
      "source": [
        "y_tr.value_counts()\n",
        "y_train_smote.value_counts()"
      ]
    },
    {
      "cell_type": "code",
      "execution_count": 38,
      "metadata": {},
      "outputs": [],
      "source": [
        "knn =KNeighborsClassifier()"
      ]
    },
    {
      "cell_type": "code",
      "execution_count": 39,
      "metadata": {},
      "outputs": [
        {
          "data": {
            "text/html": [
              "<style>#sk-container-id-2 {color: black;background-color: white;}#sk-container-id-2 pre{padding: 0;}#sk-container-id-2 div.sk-toggleable {background-color: white;}#sk-container-id-2 label.sk-toggleable__label {cursor: pointer;display: block;width: 100%;margin-bottom: 0;padding: 0.3em;box-sizing: border-box;text-align: center;}#sk-container-id-2 label.sk-toggleable__label-arrow:before {content: \"▸\";float: left;margin-right: 0.25em;color: #696969;}#sk-container-id-2 label.sk-toggleable__label-arrow:hover:before {color: black;}#sk-container-id-2 div.sk-estimator:hover label.sk-toggleable__label-arrow:before {color: black;}#sk-container-id-2 div.sk-toggleable__content {max-height: 0;max-width: 0;overflow: hidden;text-align: left;background-color: #f0f8ff;}#sk-container-id-2 div.sk-toggleable__content pre {margin: 0.2em;color: black;border-radius: 0.25em;background-color: #f0f8ff;}#sk-container-id-2 input.sk-toggleable__control:checked~div.sk-toggleable__content {max-height: 200px;max-width: 100%;overflow: auto;}#sk-container-id-2 input.sk-toggleable__control:checked~label.sk-toggleable__label-arrow:before {content: \"▾\";}#sk-container-id-2 div.sk-estimator input.sk-toggleable__control:checked~label.sk-toggleable__label {background-color: #d4ebff;}#sk-container-id-2 div.sk-label input.sk-toggleable__control:checked~label.sk-toggleable__label {background-color: #d4ebff;}#sk-container-id-2 input.sk-hidden--visually {border: 0;clip: rect(1px 1px 1px 1px);clip: rect(1px, 1px, 1px, 1px);height: 1px;margin: -1px;overflow: hidden;padding: 0;position: absolute;width: 1px;}#sk-container-id-2 div.sk-estimator {font-family: monospace;background-color: #f0f8ff;border: 1px dotted black;border-radius: 0.25em;box-sizing: border-box;margin-bottom: 0.5em;}#sk-container-id-2 div.sk-estimator:hover {background-color: #d4ebff;}#sk-container-id-2 div.sk-parallel-item::after {content: \"\";width: 100%;border-bottom: 1px solid gray;flex-grow: 1;}#sk-container-id-2 div.sk-label:hover label.sk-toggleable__label {background-color: #d4ebff;}#sk-container-id-2 div.sk-serial::before {content: \"\";position: absolute;border-left: 1px solid gray;box-sizing: border-box;top: 0;bottom: 0;left: 50%;z-index: 0;}#sk-container-id-2 div.sk-serial {display: flex;flex-direction: column;align-items: center;background-color: white;padding-right: 0.2em;padding-left: 0.2em;position: relative;}#sk-container-id-2 div.sk-item {position: relative;z-index: 1;}#sk-container-id-2 div.sk-parallel {display: flex;align-items: stretch;justify-content: center;background-color: white;position: relative;}#sk-container-id-2 div.sk-item::before, #sk-container-id-2 div.sk-parallel-item::before {content: \"\";position: absolute;border-left: 1px solid gray;box-sizing: border-box;top: 0;bottom: 0;left: 50%;z-index: -1;}#sk-container-id-2 div.sk-parallel-item {display: flex;flex-direction: column;z-index: 1;position: relative;background-color: white;}#sk-container-id-2 div.sk-parallel-item:first-child::after {align-self: flex-end;width: 50%;}#sk-container-id-2 div.sk-parallel-item:last-child::after {align-self: flex-start;width: 50%;}#sk-container-id-2 div.sk-parallel-item:only-child::after {width: 0;}#sk-container-id-2 div.sk-dashed-wrapped {border: 1px dashed gray;margin: 0 0.4em 0.5em 0.4em;box-sizing: border-box;padding-bottom: 0.4em;background-color: white;}#sk-container-id-2 div.sk-label label {font-family: monospace;font-weight: bold;display: inline-block;line-height: 1.2em;}#sk-container-id-2 div.sk-label-container {text-align: center;}#sk-container-id-2 div.sk-container {/* jupyter's `normalize.less` sets `[hidden] { display: none; }` but bootstrap.min.css set `[hidden] { display: none !important; }` so we also need the `!important` here to be able to override the default hidden behavior on the sphinx rendered scikit-learn.org. See: https://github.com/scikit-learn/scikit-learn/issues/21755 */display: inline-block !important;position: relative;}#sk-container-id-2 div.sk-text-repr-fallback {display: none;}</style><div id=\"sk-container-id-2\" class=\"sk-top-container\"><div class=\"sk-text-repr-fallback\"><pre>KNeighborsClassifier()</pre><b>In a Jupyter environment, please rerun this cell to show the HTML representation or trust the notebook. <br />On GitHub, the HTML representation is unable to render, please try loading this page with nbviewer.org.</b></div><div class=\"sk-container\" hidden><div class=\"sk-item\"><div class=\"sk-estimator sk-toggleable\"><input class=\"sk-toggleable__control sk-hidden--visually\" id=\"sk-estimator-id-2\" type=\"checkbox\" checked><label for=\"sk-estimator-id-2\" class=\"sk-toggleable__label sk-toggleable__label-arrow\">KNeighborsClassifier</label><div class=\"sk-toggleable__content\"><pre>KNeighborsClassifier()</pre></div></div></div></div></div>"
            ],
            "text/plain": [
              "KNeighborsClassifier()"
            ]
          },
          "execution_count": 39,
          "metadata": {},
          "output_type": "execute_result"
        }
      ],
      "source": [
        "knn.fit(x_train_smote,y_train_smote)"
      ]
    },
    {
      "cell_type": "code",
      "execution_count": 40,
      "metadata": {},
      "outputs": [],
      "source": [
        "y_predict = knn.predict(x_t)  \n",
        "y_predict1 = knn.predict(x_train_smote)  "
      ]
    },
    {
      "cell_type": "code",
      "execution_count": 41,
      "metadata": {},
      "outputs": [
        {
          "data": {
            "text/html": [
              "<div>\n",
              "<style scoped>\n",
              "    .dataframe tbody tr th:only-of-type {\n",
              "        vertical-align: middle;\n",
              "    }\n",
              "\n",
              "    .dataframe tbody tr th {\n",
              "        vertical-align: top;\n",
              "    }\n",
              "\n",
              "    .dataframe thead th {\n",
              "        text-align: right;\n",
              "    }\n",
              "</style>\n",
              "<table border=\"1\" class=\"dataframe\">\n",
              "  <thead>\n",
              "    <tr style=\"text-align: right;\">\n",
              "      <th>col_0</th>\n",
              "      <th>0</th>\n",
              "      <th>1</th>\n",
              "    </tr>\n",
              "    <tr>\n",
              "      <th>flood</th>\n",
              "      <th></th>\n",
              "      <th></th>\n",
              "    </tr>\n",
              "  </thead>\n",
              "  <tbody>\n",
              "    <tr>\n",
              "      <th>0</th>\n",
              "      <td>24</td>\n",
              "      <td>3</td>\n",
              "    </tr>\n",
              "    <tr>\n",
              "      <th>1</th>\n",
              "      <td>0</td>\n",
              "      <td>8</td>\n",
              "    </tr>\n",
              "  </tbody>\n",
              "</table>\n",
              "</div>"
            ],
            "text/plain": [
              "col_0   0  1\n",
              "flood       \n",
              "0      24  3\n",
              "1       0  8"
            ]
          },
          "execution_count": 41,
          "metadata": {},
          "output_type": "execute_result"
        }
      ],
      "source": [
        "pd.crosstab(y_t,y_predict)"
      ]
    },
    {
      "cell_type": "code",
      "execution_count": 42,
      "metadata": {},
      "outputs": [
        {
          "name": "stdout",
          "output_type": "stream",
          "text": [
            "test accuracy: 0.9142857142857143\n",
            "train accuracy: 0.9791666666666666\n",
            "              precision    recall  f1-score   support\n",
            "\n",
            "           0       1.00      0.89      0.94        27\n",
            "           1       0.73      1.00      0.84         8\n",
            "\n",
            "    accuracy                           0.91        35\n",
            "   macro avg       0.86      0.94      0.89        35\n",
            "weighted avg       0.94      0.91      0.92        35\n",
            "\n"
          ]
        }
      ],
      "source": [
        "print(\"test accuracy:\",accuracy_score(y_t,y_predict))\n",
        "print(\"train accuracy:\",accuracy_score(y_train_smote,y_predict1))\n",
        "\n",
        "print(classification_report(y_t,y_predict))"
      ]
    },
    {
      "cell_type": "code",
      "execution_count": 43,
      "metadata": {
        "colab": {
          "base_uri": "https://localhost:8080/"
        },
        "id": "pjs7c_Ye3I6r",
        "outputId": "b2d7d07a-a34b-428b-eb0d-bd7c3b30426e"
      },
      "outputs": [
        {
          "name": "stderr",
          "output_type": "stream",
          "text": [
            "d:\\HTML\\Anaconda\\Lib\\site-packages\\sklearn\\base.py:439: UserWarning: X does not have valid feature names, but KNeighborsClassifier was fitted with feature names\n",
            "  warnings.warn(\n"
          ]
        },
        {
          "data": {
            "text/plain": [
              "array([0], dtype=int64)"
            ]
          },
          "execution_count": 43,
          "metadata": {},
          "output_type": "execute_result"
        }
      ],
      "source": [
        "knn.predict([[29,70,30,3248.6,73.4,386.2,2122.8,666.1,274.867,649.9]])"
      ]
    },
    {
      "cell_type": "code",
      "execution_count": 44,
      "metadata": {
        "colab": {
          "base_uri": "https://localhost:8080/"
        },
        "id": "w7fK5qYk4IOg",
        "outputId": "76f19f64-d5f0-4c09-aa8a-5da351416974"
      },
      "outputs": [
        {
          "name": "stderr",
          "output_type": "stream",
          "text": [
            "d:\\HTML\\Anaconda\\Lib\\site-packages\\sklearn\\base.py:439: UserWarning: X does not have valid feature names, but KNeighborsClassifier was fitted with feature names\n",
            "  warnings.warn(\n"
          ]
        },
        {
          "data": {
            "text/plain": [
              "array([1], dtype=int64)"
            ]
          },
          "execution_count": 44,
          "metadata": {},
          "output_type": "execute_result"
        }
      ],
      "source": [
        "knn.predict([[28, 75, 40, 3326.6, 9.3, 275.7, 2403.4, 638.2, 130.300000, 256.4]])"
      ]
    },
    {
      "cell_type": "code",
      "execution_count": 45,
      "metadata": {
        "colab": {
          "base_uri": "https://localhost:8080/"
        },
        "id": "hA8nvSOy4X61",
        "outputId": "0604d233-ce58-4e6f-b084-b9fbbd668432"
      },
      "outputs": [
        {
          "name": "stderr",
          "output_type": "stream",
          "text": [
            "d:\\HTML\\Anaconda\\Lib\\site-packages\\sklearn\\base.py:439: UserWarning: X does not have valid feature names, but KNeighborsClassifier was fitted with feature names\n",
            "  warnings.warn(\n"
          ]
        },
        {
          "data": {
            "text/plain": [
              "array([1], dtype=int64)"
            ]
          },
          "execution_count": 45,
          "metadata": {},
          "output_type": "execute_result"
        }
      ],
      "source": [
        "knn.predict([[30,75,45,3545.8,24.5,300.4,2545.4,655.9,145.89,569.1]])"
      ]
    },
    {
      "cell_type": "code",
      "execution_count": 46,
      "metadata": {
        "id": "Ly0LErkx5Maq"
      },
      "outputs": [],
      "source": [
        "import pickle\n",
        "pickle.dump(knn,open('floodpredicition.pkl','wb'))"
      ]
    }
  ],
  "metadata": {
    "colab": {
      "provenance": []
    },
    "kernelspec": {
      "display_name": "Python 3",
      "name": "python3"
    },
    "language_info": {
      "codemirror_mode": {
        "name": "ipython",
        "version": 3
      },
      "file_extension": ".py",
      "mimetype": "text/x-python",
      "name": "python",
      "nbconvert_exporter": "python",
      "pygments_lexer": "ipython3",
      "version": "3.11.7"
    }
  },
  "nbformat": 4,
  "nbformat_minor": 0
}
